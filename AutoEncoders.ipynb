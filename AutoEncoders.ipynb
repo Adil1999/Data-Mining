{
 "cells": [
  {
   "cell_type": "code",
   "execution_count": 0,
   "metadata": {
    "colab": {},
    "colab_type": "code",
    "id": "Y1p0GifephxJ"
   },
   "outputs": [],
   "source": [
    "import torch\n",
    "import torch.nn as nn\n",
    "import torch.nn.functional as F\n",
    "import torch.optim as optim\n",
    "import matplotlib.pyplot as plt\n",
    "import numpy as np\n",
    "from torchvision import datasets, transforms"
   ]
  },
  {
   "cell_type": "code",
   "execution_count": 0,
   "metadata": {
    "colab": {},
    "colab_type": "code",
    "id": "K1rp4mQtpkYT"
   },
   "outputs": [],
   "source": [
    "data_set = datasets.MNIST(\n",
    "    'data', \n",
    "    train=True, \n",
    "    download=False, \n",
    "    transform= transforms.Compose([\n",
    "        transforms.ToTensor(),] ))\n"
   ]
  },
  {
   "cell_type": "code",
   "execution_count": 0,
   "metadata": {
    "colab": {},
    "colab_type": "code",
    "id": "H03MjapGxfu7"
   },
   "outputs": [],
   "source": [
    "def load_splitset(dataset,test_split=0.3):\n",
    "    #test_split = .2\n",
    "    shuffle_dataset = True\n",
    "    random_seed= 42\n",
    "    dataset_size = len(dataset)\n",
    "    indices = list(range(dataset_size))\n",
    "    split = int(np.floor(test_split * dataset_size))\n",
    "    if shuffle_dataset :\n",
    "        np.random.seed(random_seed)\n",
    "        np.random.shuffle(indices)\n",
    "    train_indices, test_indices = indices[split:], indices[:split]\n",
    "    \n",
    "    testset_size = len(test_indices)\n",
    "    indices = list(range(testset_size))\n",
    "    split = int(np.floor(0.5 * testset_size))\n",
    "    if shuffle_dataset :\n",
    "        np.random.seed(random_seed)\n",
    "        np.random.shuffle(indices)\n",
    "    val_indices, test_indices = indices[split:], indices[:split]\n",
    "\n",
    "\n",
    "    # Creating  data samplers and loaders:\n",
    "    train_sampler = torch.utils.data.SubsetRandomSampler(train_indices)\n",
    "    val_sampler = torch.utils.data.SubsetRandomSampler(val_indices)\n",
    "    test_sampler = torch.utils.data.SubsetRandomSampler(test_indices)\n",
    "\n",
    "    train_loader = torch.utils.data.DataLoader(dataset, batch_size=36,\n",
    "                                           sampler=train_sampler)\n",
    "\n",
    "    test_loader = torch.utils.data.DataLoader(dataset, batch_size=36,\n",
    "                                                sampler=test_sampler)\n",
    "    \n",
    "    val_loader = torch.utils.data.DataLoader(dataset, batch_size=36,\n",
    "                                                sampler=val_sampler)\n",
    "    return train_loader,test_loader, val_loader"
   ]
  },
  {
   "cell_type": "code",
   "execution_count": 156,
   "metadata": {
    "colab": {
     "base_uri": "https://localhost:8080/",
     "height": 69
    },
    "colab_type": "code",
    "id": "HNI8HZV9xkRi",
    "outputId": "d8e6f8ce-e76a-4de7-fa9a-14cba2fc58ff"
   },
   "outputs": [
    {
     "name": "stdout",
     "output_type": "stream",
     "text": [
      "1167\n",
      "250\n",
      "250\n"
     ]
    }
   ],
   "source": [
    "train_loader,test_loader, val_loader = load_splitset(data_set,test_split=0.3)\n",
    "print(len(train_loader))\n",
    "print(len(val_loader))\n",
    "print(len(test_loader))"
   ]
  },
  {
   "cell_type": "code",
   "execution_count": 0,
   "metadata": {
    "colab": {},
    "colab_type": "code",
    "id": "HpdpFh6-qL86"
   },
   "outputs": [],
   "source": [
    "class Autoencoder(nn.Module):\n",
    "    def __init__(self):\n",
    "        super(Autoencoder, self).__init__()\n",
    "        self.encoder = nn.Sequential( # like the Composition layer you built\n",
    "            nn.Linear(784,340),\n",
    "            nn.ReLU(),\n",
    "            nn.Linear(340,120),\n",
    "            nn.ReLU(),\n",
    "            nn.Linear(120,40),\n",
    "            nn.ReLU(),\n",
    "            nn.Linear(40,2)\n",
    "        )\n",
    "        self.decoder = nn.Sequential(\n",
    "            nn.Linear(2,40),\n",
    "            nn.ReLU(),\n",
    "            nn.Linear(40,120),\n",
    "            nn.ReLU(),\n",
    "            nn.Linear(120,340),\n",
    "            nn.ReLU(),\n",
    "            nn.Linear(340,784),\n",
    "            nn.Sigmoid()\n",
    "        )\n",
    "\n",
    "    def forward(self, x):\n",
    "        x = self.encoder(x)\n",
    "        #print(x.shape)\n",
    "        x = self.decoder(x)\n",
    "        return x"
   ]
  },
  {
   "cell_type": "code",
   "execution_count": 0,
   "metadata": {
    "colab": {},
    "colab_type": "code",
    "id": "spZb_5r4s-Pt"
   },
   "outputs": [],
   "source": [
    "network = Autoencoder()\n",
    "sample = next(iter(data_set))\n",
    "image, lables = sample\n",
    "image = image.view(image.size(0), -1)\n",
    "pred = network(image)"
   ]
  },
  {
   "cell_type": "code",
   "execution_count": 157,
   "metadata": {
    "colab": {
     "base_uri": "https://localhost:8080/",
     "height": 382
    },
    "colab_type": "code",
    "id": "coUzywy9yFrv",
    "outputId": "b124f739-cdcb-4f85-8ca3-80a0e98ded31"
   },
   "outputs": [
    {
     "name": "stdout",
     "output_type": "stream",
     "text": [
      "cuda\n",
      "Epoch:1, Loss:0.0445\n",
      "Epoch:2, Loss:0.0456\n",
      "Epoch:3, Loss:0.0412\n",
      "Epoch:4, Loss:0.0446\n",
      "Epoch:5, Loss:0.0422\n",
      "Epoch:6, Loss:0.0373\n",
      "Epoch:7, Loss:0.0469\n",
      "Epoch:8, Loss:0.0378\n",
      "Epoch:9, Loss:0.0385\n",
      "Epoch:10, Loss:0.0391\n",
      "Epoch:11, Loss:0.0352\n",
      "Epoch:12, Loss:0.0357\n",
      "Epoch:13, Loss:0.0375\n",
      "Epoch:14, Loss:0.0408\n",
      "Epoch:15, Loss:0.0359\n",
      "Epoch:16, Loss:0.0385\n",
      "Epoch:17, Loss:0.0373\n",
      "Epoch:18, Loss:0.0393\n",
      "Epoch:19, Loss:0.0385\n",
      "Epoch:20, Loss:0.0333\n"
     ]
    }
   ],
   "source": [
    "#training\n",
    "network = Autoencoder()\n",
    "torch.manual_seed(42)\n",
    "criterion = nn.MSELoss() # mean square error loss\n",
    "optimizer = torch.optim.Adam(network.parameters(),\n",
    "                                lr=0.001, \n",
    "                                weight_decay=1e-5) # <--\n",
    "# print(train_loader.shape)\n",
    "use_cuda = True\n",
    "if use_cuda and torch.cuda.is_available():\n",
    "    network.cuda()\n",
    "    print ('cuda')\n",
    "for epoch in range(20):\n",
    "    for data in train_loader:\n",
    "        image, _ = data\n",
    "        if use_cuda and torch.cuda.is_available():\n",
    "            image = image.cuda()\n",
    "        image = image.view(image.size(0), -1)\n",
    "        recon = network(image)\n",
    "        loss = criterion(recon, image)\n",
    "        loss.backward()\n",
    "        optimizer.step()\n",
    "        optimizer.zero_grad()\n",
    "    torch.cuda.empty_cache()\n",
    "    print('Epoch:{}, Loss:{:.4f}'.format(epoch+1, float(loss)))"
   ]
  },
  {
   "cell_type": "code",
   "execution_count": 0,
   "metadata": {
    "colab": {},
    "colab_type": "code",
    "id": "YrDhGOWLGmrn"
   },
   "outputs": [],
   "source": [
    "import pandas as pd\n",
    "def output_features(data_loader):\n",
    "    output = []\n",
    "    for data in data_loader:\n",
    "        image, lable = data\n",
    "        if use_cuda and torch.cuda.is_available():\n",
    "            image = image.cuda()\n",
    "            lable = lable.cuda()\n",
    "        for x in range(len(image)):\n",
    "            img = image[x].view(image[x].size(0), -1)\n",
    "            recon = network.encoder(img)\n",
    "            recon = recon.squeeze()\n",
    "            output.append([recon[0],recon[1],lable[x].item()])\n",
    "    print(len(output))\n",
    "    output = np.asarray(output)\n",
    "    data_points = pd.DataFrame(output)\n",
    "    data_points.columns=['feat1','feat2','class']\n",
    "    return data_points"
   ]
  },
  {
   "cell_type": "code",
   "execution_count": 178,
   "metadata": {
    "colab": {
     "base_uri": "https://localhost:8080/",
     "height": 34
    },
    "colab_type": "code",
    "id": "-8gBWFdRHVLF",
    "outputId": "86b618b6-8266-4812-cb87-1c0556c9a444"
   },
   "outputs": [
    {
     "name": "stdout",
     "output_type": "stream",
     "text": [
      "42000\n"
     ]
    }
   ],
   "source": [
    "train_dp = output_features(train_loader)"
   ]
  },
  {
   "cell_type": "code",
   "execution_count": 179,
   "metadata": {
    "colab": {
     "base_uri": "https://localhost:8080/",
     "height": 281
    },
    "colab_type": "code",
    "id": "jQHulW51NUN9",
    "outputId": "02b60bdb-3769-459d-926b-a4251fde0106"
   },
   "outputs": [
    {
     "data": {
      "image/png": "[encoded data removed]",
      "text/plain": [
       "<Figure size 432x288 with 1 Axes>"
      ]
     },
     "metadata": {
      "needs_background": "light",
      "tags": []
     },
     "output_type": "display_data"
    }
   ],
   "source": [
    "X = []\n",
    "num_classes = 10\n",
    "for Class in range(num_classes):\n",
    "    x = train_dp[ train_dp['class'] == Class]\n",
    "    X.append(np.array(x)[:,0:2])\n",
    "\n",
    "\n",
    "\n",
    "plotdata = np.array(X)\n",
    "colors = (\"red\", \"green\", \"blue\",'yellow','brown','orange','pink','gray','purple','black')\n",
    "groups = ['0','1','2','3','4','5','6','7','8','9']\n",
    "\n",
    "# Create plot\n",
    "fig = plt.figure()\n",
    "ax = fig.add_subplot(1, 1, 1, facecolor=\"1.0\")\n",
    "\n",
    "for plotdata, color, group in zip(plotdata, colors, groups):\n",
    "    \n",
    "    ax.scatter(plotdata[:,0], plotdata[:,1],s=np.pi, alpha=0.8, c=color, edgecolors='none', label=group)\n",
    "\n",
    "plt.title('Matplot scatter plot')\n",
    "plt.legend(loc=2)\n",
    "plt.show()\n",
    "\n"
   ]
  },
  {
   "cell_type": "markdown",
   "metadata": {
    "colab_type": "text",
    "id": "9eGJnR1IS-Jq"
   },
   "source": [
    "**Using KNN classifier**"
   ]
  },
  {
   "cell_type": "code",
   "execution_count": 0,
   "metadata": {
    "colab": {},
    "colab_type": "code",
    "id": "Wosr8ae0Qltt"
   },
   "outputs": [],
   "source": [
    "# TODO: You have to implement the following class\n",
    "## Your code goes here...\n",
    "\n",
    "from sklearn.metrics.pairwise import euclidean_distances\n",
    "import scipy.stats as ss\n",
    "\n",
    "class KNearestNeighbor:\n",
    "    ''' Implements the KNearest Neigbours For Classification... '''\n",
    "    def __init__(self, k, scalefeatures=False):        \n",
    "       \n",
    "\n",
    "        self.K=k\n",
    "        return\n",
    "        \n",
    "        #pass    \n",
    "        \n",
    "        \n",
    "    \n",
    "    def train(self, X, Y):\n",
    "        ''' Train K Nearest Neighbour classifier using the given \n",
    "            X [m x d] data matrix and Y labels matrix\n",
    "            \n",
    "            Input:\n",
    "            ------\n",
    "            X: [m x d] a data matrix of m d-dimensional examples.\n",
    "            Y: [m x 1] a label vector.\n",
    "            \n",
    "            Returns:\n",
    "            -----------\n",
    "            Nothing\n",
    "            '''\n",
    "        \n",
    "        \n",
    "        nexamples,nfeatures=X.shape\n",
    "        \n",
    "        # YOUR CODE HERE\n",
    "\n",
    "        #Your code goes here...\n",
    "       \n",
    "        self.X_train=X\n",
    "        self.Y_train=Y\n",
    "        \n",
    "        #define self.X_train to store the training data...\n",
    "                \n",
    "    \n",
    "    def predict(self, X):\n",
    "        \n",
    "        \"\"\"\n",
    "        Test the trained K-Nearset Neighoubr classifier result on the given examples X\n",
    "        \n",
    "                   \n",
    "            Input:\n",
    "            ------\n",
    "            X: [m x d] a matrix of m  d-dimensional test examples.\n",
    "            Returns:\n",
    "            -----------\n",
    "                pclass: the predicted class for the given set of examples, i.e. to which it belongs\n",
    "        \"\"\"\n",
    "        \n",
    "        num_test = X.shape[0]\n",
    "        \n",
    "        y_pred = np.zeros(self.K, dtype = self.Y_train.dtype)\n",
    "        pclass=[]\n",
    "\n",
    "        compute_distance = euclidean_distances(X, self.X_train)\n",
    "        # YOUR CODE HERE\n",
    "\n",
    "        for x in range(num_test):\n",
    "            SortedDist=np.sort(compute_distance[x])\n",
    "            for y in range(self.K):\n",
    "                index=np.where(SortedDist[y] == compute_distance[x])\n",
    "                y_pred[y]=self.Y_train[index][0]\n",
    "                # print(self.Y_train[index][0])\n",
    "            pclass.append(ss.mode(y_pred)[0][0])\n",
    "            # print (np.min(compute_distance[x]))\n",
    "\n",
    "        return pclass\n",
    "        \n"
   ]
  },
  {
   "cell_type": "markdown",
   "metadata": {
    "colab_type": "text",
    "id": "5jOrof4YWuS7"
   },
   "source": [
    "**Now Classifying validation data**"
   ]
  },
  {
   "cell_type": "code",
   "execution_count": 180,
   "metadata": {
    "colab": {
     "base_uri": "https://localhost:8080/",
     "height": 34
    },
    "colab_type": "code",
    "id": "GM9_5P1EUGEa",
    "outputId": "29c7bef2-0e08-4b9e-9fd8-9713d3f53659"
   },
   "outputs": [
    {
     "name": "stdout",
     "output_type": "stream",
     "text": [
      "9000\n"
     ]
    }
   ],
   "source": [
    "val_dp = output_features(val_loader)"
   ]
  },
  {
   "cell_type": "code",
   "execution_count": 0,
   "metadata": {
    "colab": {},
    "colab_type": "code",
    "id": "olhGwnw7W3cQ"
   },
   "outputs": [],
   "source": [
    "KNN = KNearestNeighbor(k=3)\n",
    "KNN.train(np.asarray(train_dp)[:,0:2],np.asarray(train_dp)[:,-1])\n",
    "pred = KNN.predict(np.asarray(val_dp)[:,0:2])"
   ]
  },
  {
   "cell_type": "code",
   "execution_count": 189,
   "metadata": {
    "colab": {
     "base_uri": "https://localhost:8080/",
     "height": 52
    },
    "colab_type": "code",
    "id": "A9GhRWfRYFK2",
    "outputId": "82eafbd3-d39d-4ada-d416-3dbe80d9317c"
   },
   "outputs": [
    {
     "name": "stdout",
     "output_type": "stream",
     "text": [
      "Total correct :  7152 Out of :  9000\n",
      "Validation Set Accuracy: 0.7946666666666666\n"
     ]
    }
   ],
   "source": [
    "#Lets see how good we are doing, by finding the accuracy on the val set..\n",
    "Total=len(val_dp)\n",
    "correct=y=0\n",
    "Ytest = np.asarray(val_dp)[:,-1]\n",
    "for x in pred:\n",
    "    if x==Ytest[y]:\n",
    "        correct+=1\n",
    "    y+=1\n",
    "print('Total correct : ',correct, 'Out of : ',len(val_dp))\n",
    "print('Validation Set Accuracy:',correct/Total)"
   ]
  },
  {
   "cell_type": "markdown",
   "metadata": {
    "colab_type": "text",
    "id": "E9OO6tC9Ze_x"
   },
   "source": [
    "**Now Classifying Test data**"
   ]
  },
  {
   "cell_type": "code",
   "execution_count": 191,
   "metadata": {
    "colab": {
     "base_uri": "https://localhost:8080/",
     "height": 69
    },
    "colab_type": "code",
    "id": "Wh4D4nrkZde6",
    "outputId": "bf598aed-527d-4978-e249-725b89f2db3e"
   },
   "outputs": [
    {
     "name": "stdout",
     "output_type": "stream",
     "text": [
      "9000\n",
      "Total correct :  7118 Out of :  9000\n",
      "Test Set Accuracy: 0.7908888888888889\n"
     ]
    }
   ],
   "source": [
    "test_dp = output_features(test_loader)\n",
    "\n",
    "KNN = KNearestNeighbor(k=3)\n",
    "KNN.train(np.asarray(train_dp)[:,0:2],np.asarray(train_dp)[:,-1])\n",
    "pred = KNN.predict(np.asarray(test_dp)[:,0:2])\n",
    "\n",
    "#Lets see how good we are doing, by finding the accuracy on the test set..\n",
    "Total=len(test_dp)\n",
    "correct=y=0\n",
    "Ytest = np.asarray(test_dp)[:,-1]\n",
    "for x in pred:\n",
    "    if x==Ytest[y]:\n",
    "        correct+=1\n",
    "    y+=1\n",
    "print('Total correct : ',correct, 'Out of : ',len(val_dp))\n",
    "print('Test Set Accuracy:',correct/Total)"
   ]
  }
 ],
 "metadata": {
  "accelerator": "GPU",
  "colab": {
   "collapsed_sections": [],
   "name": "AutoEncoders.ipynb",
   "provenance": []
  },
  "kernelspec": {
   "display_name": "Python 3",
   "language": "python",
   "name": "python3"
  },
  "language_info": {
   "codemirror_mode": {
    "name": "ipython",
    "version": 3
   },
   "file_extension": ".py",
   "mimetype": "text/x-python",
   "name": "python",
   "nbconvert_exporter": "python",
   "pygments_lexer": "ipython3",
   "version": "3.7.3"
  }
 },
 "nbformat": 4,
 "nbformat_minor": 1
}
