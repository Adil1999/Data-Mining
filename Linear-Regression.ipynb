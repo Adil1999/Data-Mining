{
 "cells": [
  {
   "cell_type": "markdown",
   "metadata": {
    "internals": {
     "slide_type": "subslide"
    },
    "slideshow": {
     "slide_type": "slide"
    }
   },
   "source": [
    "# Linear Regression\n"
   ]
  },
  {
   "cell_type": "code",
   "execution_count": 1,
   "metadata": {},
   "outputs": [],
   "source": [
    "import numpy as np"
   ]
  },
  {
   "cell_type": "code",
   "execution_count": 2,
   "metadata": {
    "internals": {},
    "slideshow": {
     "slide_type": "-"
    }
   },
   "outputs": [
    {
     "name": "stdout",
     "output_type": "stream",
     "text": [
      "Populating the interactive namespace from numpy and matplotlib\n"
     ]
    }
   ],
   "source": [
    "%pylab inline\n",
    "plt.style.use('ggplot')\n",
    "plt.rcParams['image.interpolation'] = 'nearest'"
   ]
  },
  {
   "cell_type": "markdown",
   "metadata": {
    "internals": {
     "frag_helper": "fragment_end",
     "frag_number": 5,
     "slide_type": "subslide"
    },
    "slideshow": {
     "slide_type": "slide"
    }
   },
   "source": [
    "### Gradient Descent"
   ]
  },
  {
   "cell_type": "markdown",
   "metadata": {
    "internals": {
     "frag_helper": "fragment_end",
     "frag_number": 7,
     "slide_helper": "subslide_end",
     "slide_type": "subslide"
    },
    "slide_helper": "slide_end",
    "slideshow": {
     "slide_type": "slide"
    }
   },
   "source": [
    "#### Always Check your gradient, before debugging gradient descent,\n",
    "\n",
    "We know that $$\\frac{\\partial f}{\\partial x}=\\frac{f(x+\\epsilon)-f(x)}{\\epsilon}$$\n",
    "\n",
    "So always compare the difference between computed gradient using this formula.\n"
   ]
  },
  {
   "cell_type": "markdown",
   "metadata": {
    "internals": {
     "frag_helper": "fragment_end",
     "frag_number": 7,
     "slide_type": "subslide"
    },
    "slideshow": {
     "slide_type": "slide"
    }
   },
   "source": [
    "#### Lets Check"
   ]
  },
  {
   "cell_type": "markdown",
   "metadata": {},
   "source": [
    "### Let's generate some random data"
   ]
  },
  {
   "cell_type": "code",
   "execution_count": 9,
   "metadata": {},
   "outputs": [],
   "source": [
    "X = np.arange(0,5,0.1, dtype=np.float32)\n",
    "delta = np.random.uniform(-1,1, size=X.shape[0])\n",
    "Y = .4 * X + 3 + delta\n",
    "\n",
    "#making a copy for later use\n",
    "rx = X\n",
    "ry = Y\n",
    "#print(X.shape)"
   ]
  },
  {
   "cell_type": "code",
   "execution_count": 10,
   "metadata": {
    "internals": {
     "frag_helper": "fragment_end",
     "frag_number": 16,
     "slide_helper": "subslide_end"
    },
    "slide_helper": "slide_end",
    "slideshow": {
     "slide_type": "fragment"
    }
   },
   "outputs": [
    {
     "data": {
      "text/plain": [
       "Text(0, 0.5, 'Y')"
      ]
     },
     "execution_count": 10,
     "metadata": {},
     "output_type": "execute_result"
    },
    {
     "data": {
      "image/png": "[encoded data removed]",
      "text/plain": [
       "<Figure size 432x288 with 1 Axes>"
      ]
     },
     "metadata": {
      "needs_background": "light"
     },
     "output_type": "display_data"
    }
   ],
   "source": [
    "plt.scatter(X,Y)\n",
    "plt.xlabel('X')\n",
    "plt.ylabel('Y')"
   ]
  },
  {
   "cell_type": "markdown",
   "metadata": {},
   "source": [
    "### Let's visualize our solution space"
   ]
  },
  {
   "cell_type": "code",
   "execution_count": 11,
   "metadata": {
    "internals": {
     "frag_helper": "fragment_end",
     "frag_number": 16,
     "slide_type": "subslide"
    },
    "slideshow": {
     "slide_type": "slide"
    }
   },
   "outputs": [],
   "source": [
    "cf=lambda t0,t1,x,y: np.dot(t1*x+t0-y,t1*x+t0-y)\n",
    "#square error"
   ]
  },
  {
   "cell_type": "code",
   "execution_count": 12,
   "metadata": {
    "internals": {
     "frag_helper": "fragment_end",
     "frag_number": 18
    },
    "slideshow": {
     "slide_type": "fragment"
    }
   },
   "outputs": [],
   "source": [
    "t0=arange(-5,+5,0.01)\n",
    "t1=arange(-5,+5,0.01)"
   ]
  },
  {
   "cell_type": "code",
   "execution_count": 13,
   "metadata": {
    "internals": {
     "frag_helper": "fragment_end",
     "frag_number": 19
    },
    "slideshow": {
     "slide_type": "fragment"
    }
   },
   "outputs": [],
   "source": [
    "ecf=np.zeros((len(t0),len(t1)))\n",
    "\n",
    "for i in range(len(t0)):\n",
    "    for j in range(len(t1)):\n",
    "        ecf[i,j]=cf(t0[i],t1[j],X,Y)"
   ]
  },
  {
   "cell_type": "code",
   "execution_count": 14,
   "metadata": {
    "internals": {
     "frag_helper": "fragment_end",
     "frag_number": 19
    },
    "slideshow": {
     "slide_type": "-"
    }
   },
   "outputs": [
    {
     "name": "stdout",
     "output_type": "stream",
     "text": [
      "[[25812.57874018 25749.13141991 25685.76787078 ...  2699.24656377\n",
      "   2716.40824555  2733.64991275]\n",
      " [25791.22274837 25727.79983908 25664.46069352 ...  2702.31745354\n",
      "   2719.50363319  2736.76980692]\n",
      " [25769.87671301 25706.47862907 25643.16419158 ...  2705.39837748\n",
      "   2722.6090385   2739.8997222 ]\n",
      " ...\n",
      " [ 9486.02599504  9447.00553029  9408.06772513 ... 10725.91280516\n",
      "  10767.5017663  10809.1691548 ]\n",
      " [ 9474.64005366  9435.6441016   9396.7307847  ... 10738.95392271\n",
      "  10780.56738514 10822.25927346]\n",
      " [ 9463.26428725  9424.29287543  9385.40408531 ... 10752.00479116\n",
      "  10793.6426213  10835.35914436]]\n"
     ]
    }
   ],
   "source": [
    "print (ecf)"
   ]
  },
  {
   "cell_type": "code",
   "execution_count": 15,
   "metadata": {
    "internals": {
     "frag_helper": "fragment_end",
     "frag_number": 21
    },
    "slideshow": {
     "slide_type": "fragment"
    }
   },
   "outputs": [
    {
     "name": "stdout",
     "output_type": "stream",
     "text": [
      "(1000, 1000) (1000, 1000)\n"
     ]
    }
   ],
   "source": [
    "# Generate theta_0 and theta_1 values for the cost function...\n",
    "tX, tY = np.meshgrid(t0, t1)\n",
    "print (tX.shape, tY.shape)"
   ]
  },
  {
   "cell_type": "code",
   "execution_count": 16,
   "metadata": {
    "internals": {
     "frag_helper": "fragment_end",
     "frag_number": 21
    },
    "slideshow": {
     "slide_type": "-"
    }
   },
   "outputs": [
    {
     "name": "stdout",
     "output_type": "stream",
     "text": [
      "(1000, 1000)\n"
     ]
    }
   ],
   "source": [
    "print (ecf.shape)"
   ]
  },
  {
   "cell_type": "code",
   "execution_count": 17,
   "metadata": {
    "internals": {
     "frag_helper": "fragment_end",
     "frag_number": 21,
     "slide_type": "subslide"
    },
    "slideshow": {
     "slide_type": "slide"
    }
   },
   "outputs": [
    {
     "data": {
      "text/plain": [
       "<mpl_toolkits.mplot3d.art3d.Poly3DCollection at 0x1bdf7e3e630>"
      ]
     },
     "execution_count": 17,
     "metadata": {},
     "output_type": "execute_result"
    },
    {
     "data": {
      "image/png": "[encoded data removed]",
      "text/plain": [
       "<Figure size 432x288 with 1 Axes>"
      ]
     },
     "metadata": {
      "needs_background": "light"
     },
     "output_type": "display_data"
    }
   ],
   "source": [
    "#Plot the cost function...\n",
    "from mpl_toolkits.mplot3d import Axes3D\n",
    "\n",
    "fig = plt.figure()\n",
    "ax = Axes3D(fig)\n",
    "ax.plot_surface(tX,tY,ecf.T)\n",
    "# ax.set_xlabel(r'$\\theta_0$(Intercept)')\n",
    "# ax.set_ylabel(r'$\\theta_1$(Slope)')\n",
    "# ax.set_zlabel(r'$J(\\theta_0,\\theta_1)$(Cost Function)')"
   ]
  },
  {
   "cell_type": "markdown",
   "metadata": {},
   "source": [
    "### Time for our regression implementation"
   ]
  },
  {
   "cell_type": "markdown",
   "metadata": {},
   "source": [
    "$$\n",
    "h(X, \\theta) = X^T . \\theta\n",
    "$$"
   ]
  },
  {
   "cell_type": "code",
   "execution_count": 18,
   "metadata": {},
   "outputs": [],
   "source": [
    "def hyp(theta, X):\n",
    "    res = np.dot(X,theta)\n",
    "    return res"
   ]
  },
  {
   "cell_type": "markdown",
   "metadata": {},
   "source": [
    "$$\n",
    "cost = \\frac{1}{2m} \\sum_{i = 0}^m{(h(X^i, \\theta)-Y^i)}^2\n",
    "$$"
   ]
  },
  {
   "cell_type": "code",
   "execution_count": 19,
   "metadata": {
    "internals": {
     "frag_helper": "fragment_end",
     "frag_number": 21
    },
    "slideshow": {
     "slide_type": "-"
    }
   },
   "outputs": [],
   "source": [
    "def cost_function(theta,X,Y):\n",
    "    res1 = np.dot(X,theta)\n",
    "    res2 = np.sum(np.square(res1-Y))\n",
    "    cost = res2/(2*X.shape[0])\n",
    "    return cost"
   ]
  },
  {
   "cell_type": "markdown",
   "metadata": {},
   "source": [
    "$$\n",
    "\\frac{\\delta}{\\delta \\theta_j} = \\frac{1}{m} \\sum_{i = 0}^m{(h(X^i, \\theta)-Y^i)} * X_j\n",
    "$$"
   ]
  },
  {
   "cell_type": "code",
   "execution_count": 20,
   "metadata": {
    "internals": {
     "frag_helper": "fragment_end",
     "frag_number": 21
    },
    "slideshow": {
     "slide_type": "-"
    }
   },
   "outputs": [],
   "source": [
    "def derivative_cost_function(theta,X,Y):\n",
    "    nexamples=float(X.shape[0])\n",
    "    hypothesis = hyp(theta,X)\n",
    "    cost = hypothesis - Y\n",
    "    cost = np.dot(X.transpose() , cost)\n",
    "    cost = cost / nexamples\n",
    "    return cost"
   ]
  },
  {
   "cell_type": "code",
   "execution_count": 21,
   "metadata": {
    "internals": {
     "frag_helper": "fragment_end",
     "frag_number": 21
    },
    "slideshow": {
     "slide_type": "-"
    }
   },
   "outputs": [
    {
     "name": "stdout",
     "output_type": "stream",
     "text": [
      "(50,)\n",
      "(50, 2)\n"
     ]
    }
   ],
   "source": [
    "print (X.shape)\n",
    "nx=np.hstack((X,ones(len(X),)))\n",
    "nx=nx.reshape((2,X.shape[0])).T\n",
    "print (nx.shape)"
   ]
  },
  {
   "cell_type": "code",
   "execution_count": 22,
   "metadata": {
    "internals": {
     "frag_helper": "fragment_end",
     "frag_number": 21
    },
    "slideshow": {
     "slide_type": "-"
    }
   },
   "outputs": [
    {
     "name": "stdout",
     "output_type": "stream",
     "text": [
      "[0.5881308  0.89771373]\n"
     ]
    }
   ],
   "source": [
    "np.random.seed(20) # To make sure you have the same value as me\n",
    "eps=0.0001\n",
    "nexamples=float(nx.shape[0])\n",
    "thetas=np.random.rand(nx.shape[1],)\n",
    "print (thetas)"
   ]
  },
  {
   "cell_type": "code",
   "execution_count": 23,
   "metadata": {
    "internals": {
     "frag_helper": "fragment_end",
     "frag_number": 21
    },
    "slideshow": {
     "slide_type": "-"
    }
   },
   "outputs": [
    {
     "name": "stdout",
     "output_type": "stream",
     "text": [
      "1.7477746257195674\n"
     ]
    }
   ],
   "source": [
    "cf=cost_function(thetas,nx,Y)\n",
    "print (cf)"
   ]
  },
  {
   "cell_type": "code",
   "execution_count": 24,
   "metadata": {
    "internals": {
     "frag_helper": "fragment_end",
     "frag_number": 21
    },
    "slideshow": {
     "slide_type": "-"
    }
   },
   "outputs": [
    {
     "name": "stdout",
     "output_type": "stream",
     "text": [
      "[-3.85716919 -1.77204614]\n"
     ]
    }
   ],
   "source": [
    "ad=derivative_cost_function(thetas,nx,Y)\n",
    "print (ad)"
   ]
  },
  {
   "cell_type": "code",
   "execution_count": 25,
   "metadata": {
    "internals": {
     "frag_helper": "fragment_end",
     "frag_number": 21
    },
    "scrolled": true,
    "slideshow": {
     "slide_type": "-"
    }
   },
   "outputs": [],
   "source": [
    "#Gradient Descent...\n",
    "def GradientDescent(X,Y,cost_function,derivative_cost_function,maxniter=20000):\n",
    "    nexamples=float(X.shape[0])\n",
    "    thetas=rand(X.shape[1],)\n",
    "    \n",
    "    eps=0.00001\n",
    "    alpha=0.01\n",
    "    cf=[]\n",
    "    numiter=0\n",
    "    \n",
    "    for i in range(maxniter):\n",
    "        temp = thetas\n",
    "        thetas = thetas - (alpha * derivative_cost_function(thetas,X,Y))\n",
    "        if(np.sum(abs(temp-thetas)) <= eps):\n",
    "            break\n",
    "    return thetas"
   ]
  },
  {
   "cell_type": "code",
   "execution_count": 26,
   "metadata": {},
   "outputs": [
    {
     "name": "stdout",
     "output_type": "stream",
     "text": [
      "[0.35656085 3.23634617]\n"
     ]
    }
   ],
   "source": [
    "theta_new=GradientDescent(nx,Y,cost_function,derivative_cost_function) \n",
    "print(theta_new)"
   ]
  },
  {
   "cell_type": "code",
   "execution_count": 27,
   "metadata": {},
   "outputs": [
    {
     "data": {
      "text/plain": [
       "[<matplotlib.lines.Line2D at 0x1bdf96a7e48>]"
      ]
     },
     "execution_count": 27,
     "metadata": {},
     "output_type": "execute_result"
    },
    {
     "data": {
      "image/png": "[encoded data removed]",
      "text/plain": [
       "<Figure size 432x288 with 1 Axes>"
      ]
     },
     "metadata": {
      "needs_background": "light"
     },
     "output_type": "display_data"
    }
   ],
   "source": [
    "plt.scatter(X,Y)\n",
    "plt.xlabel('X')\n",
    "plt.ylabel('Y')\n",
    "plt.plot(nx[:,0],np.dot(nx,theta_new))"
   ]
  },
  {
   "cell_type": "code",
   "execution_count": null,
   "metadata": {},
   "outputs": [],
   "source": []
  }
 ],
 "metadata": {
  "anaconda-cloud": {},
  "kernelspec": {
   "display_name": "Python 3",
   "language": "python",
   "name": "python3"
  },
  "language_info": {
   "codemirror_mode": {
    "name": "ipython",
    "version": 3
   },
   "file_extension": ".py",
   "mimetype": "text/x-python",
   "name": "python",
   "nbconvert_exporter": "python",
   "pygments_lexer": "ipython3",
   "version": "3.7.3"
  }
 },
 "nbformat": 4,
 "nbformat_minor": 1
}
